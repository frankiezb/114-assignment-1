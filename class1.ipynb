{
 "cells": [
  {
   "cell_type": "markdown",
   "id": "5c94f647-e81a-4dcc-87ce-fb2c90ff3c63",
   "metadata": {},
   "source": [
    "for char in \"hello, world\":\n",
    "    print(char)\n",
    "    t"
   ]
  },
  {
   "cell_type": "markdown",
   "id": "99b2c0a0-7df9-49a6-a676-3e56846fee57",
   "metadata": {},
   "source": [
    "# problem 1\n",
    "\n",
    "## Anagram Check \n",
    "Given two strings create a function that returnss 'True' if thee are anagrams of each other, `False` .\n",
    "\n",
    "### Acceptance Critera \n",
    "Two stings are anagrams of each other if all the criteria below are met:\n",
    "1. They must use the same letters the same amount of times.\n",
    "2. They must be equal length\n",
    "\n",
    "```\n",
    "Examples:\n",
    "anagram_check(\"earth\", \"heart\") returns True\n",
    "anagram_check(\"star\", \"rats\") returns True\n",
    "anagram_check(\"cars\", \"scar\") returns True\n",
    "```"
   ]
  },
  {
   "cell_type": "code",
   "execution_count": null,
   "id": "56686e14-0a36-42f7-bce8-b13b64424798",
   "metadata": {},
   "outputs": [],
   "source": []
  }
 ],
 "metadata": {
  "kernelspec": {
   "display_name": "Python 3 (ipykernel)",
   "language": "python",
   "name": "python3"
  },
  "language_info": {
   "codemirror_mode": {
    "name": "ipython",
    "version": 3
   },
   "file_extension": ".py",
   "mimetype": "text/x-python",
   "name": "python",
   "nbconvert_exporter": "python",
   "pygments_lexer": "ipython3",
   "version": "3.12.1"
  }
 },
 "nbformat": 4,
 "nbformat_minor": 5
}
