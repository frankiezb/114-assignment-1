{
 "cells": [
  {
   "cell_type": "markdown",
   "id": "4e2e40fc-505d-4c8f-8dc5-eda13ea4249c",
   "metadata": {},
   "source": [
    "# Simplified implementation of stack (relying on built-ins):\n",
    "\n",
    "class stack:\n",
    "    def_init_(self):\n",
    "        self.items = []\n",
    "\n",
    "    def push(self, value):\n",
    "        self.items.append(value)\n",
    "\n",
    "    def pop(self):\n",
    "        return self.items.pop()\n",
    "\n",
    "    # Nice  to have methods\n",
    "    def size(self):\n",
    "        return len(self.items)\n",
    "\n",
    "    def peek(self):\n",
    "        return self.items[len(self.items)-1]\n",
    "\n",
    "    def is_empty(self):\n",
    "        return self.items == []"
   ]
  },
  {
   "cell_type": "code",
   "execution_count": 3,
   "id": "b2c726cb-8aa8-45fc-b84c-eac66320889d",
   "metadata": {},
   "outputs": [
    {
     "ename": "SyntaxError",
     "evalue": "invalid syntax (111826351.py, line 2)",
     "output_type": "error",
     "traceback": [
      "\u001b[0;36m  Cell \u001b[0;32mIn[3], line 2\u001b[0;36m\u001b[0m\n\u001b[0;31m    considering the reversal property of stacks, create a function that uses the 'Stack' class above to invert a string.\u001b[0m\n\u001b[0m                ^\u001b[0m\n\u001b[0;31mSyntaxError\u001b[0m\u001b[0;31m:\u001b[0m invalid syntax\n"
     ]
    }
   ],
   "source": [
    "# Problem 2\n",
    "considering the reversal property of stacks, create a function that uses the 'Stack' class above to invert a string.\n",
    "\n",
    "````\n",
    "Examples:\n",
    "    invert_str(\"Donald\") should return \"dlanoD\"\n",
    "    invert_str(\"star\") should return \"ratS\"\n",
    "    invert_str(\"hello\") should return \"olleh\"\n",
    "```\n",
    "\n",
    "# Note\n",
    "Googling this one may not helps *must* use the stack class in the previous cell (google will not have our stack class)."
   ]
  },
  {
   "cell_type": "code",
   "execution_count": 2,
   "id": "e23090ae-7940-4d2d-b48f-38e1169d2b27",
   "metadata": {},
   "outputs": [],
   "source": [
    "def invert_str(mystring):\n",
    "    stack = Stack()\n",
    "    for char in mystring:\n",
    "        stack.push(char)\n",
    "    out = \"\"\n",
    "    while not stack.is_empty():\n",
    "        out += stack.pop() # this is the same as : out = out + stack.pop()\n",
    "    return out \n",
    "\n"
   ]
  },
  {
   "cell_type": "code",
   "execution_count": 5,
   "id": "617e218b-7849-4f0d-82d7-5bb51537d6de",
   "metadata": {},
   "outputs": [
    {
     "ename": "SyntaxError",
     "evalue": "invalid syntax (1737729322.py, line 4)",
     "output_type": "error",
     "traceback": [
      "\u001b[0;36m  Cell \u001b[0;32mIn[5], line 4\u001b[0;36m\u001b[0m\n\u001b[0;31m    def_init_(self):\u001b[0m\n\u001b[0m                   ^\u001b[0m\n\u001b[0;31mSyntaxError\u001b[0m\u001b[0;31m:\u001b[0m invalid syntax\n"
     ]
    }
   ],
   "source": [
    "# From scratch implementation  of stack \n",
    "\n",
    "class StackII:\n",
    "    def_init_(self):\n",
    "        self.top = None\n",
    "\n",
    "    class _Node:\n",
    "        def _init_self(self, value):\n",
    "            self.data = data\n",
    "            self.below = None\n",
    "\n",
    "    def push(self, value):\n",
    "        new _node = self.top:\n",
    "        if not self.top:\n",
    "            self.top = new_node\n",
    "            self.top.below = old_top\n",
    "    \n",
    "    def pop(self):\n",
    "        if self.top:\n",
    "            datum = self.top.data\n",
    "            self.top = self.top.below\n",
    "            return datum \n",
    "        raise IndexError(\"Stack is empty\")\n",
    "\n",
    "    #Nice to have methods:\n",
    "    def peek(self):\n",
    "        if self.top:\n",
    "            return self.top.data\n",
    "        raise IndexError(\"Stack is empty\")\n",
    "\n",
    "    def size(self)\n",
    "        count = 0 \n",
    "        current =self.top\n",
    "        if current :        # if current !=None\n",
    "            while current:\n",
    "                current = current.below\n",
    "                count +=1\n",
    "            return count\n",
    "\n",
    "    def is_empty(self):\n",
    "        return self.top == None\n",
    "        \n"
   ]
  },
  {
   "cell_type": "code",
   "execution_count": 4,
   "id": "f104ed91-5b58-4558-97de-ff0e32914112",
   "metadata": {},
   "outputs": [
    {
     "ename": "SyntaxError",
     "evalue": "invalid syntax (2756770814.py, line 6)",
     "output_type": "error",
     "traceback": [
      "\u001b[0;36m  Cell \u001b[0;32mIn[4], line 6\u001b[0;36m\u001b[0m\n\u001b[0;31m    The size method should return the total numbers of Nodes stored in the stack.\u001b[0m\n\u001b[0m        ^\u001b[0m\n\u001b[0;31mSyntaxError\u001b[0m\u001b[0;31m:\u001b[0m invalid syntax\n"
     ]
    }
   ],
   "source": [
    "# Problem 3:\n",
    "\n",
    "## Implement the size method in StackII\n",
    "\n",
    "###Acceptance Criteria\n",
    "The size method should return the total numbers of Nodes stored in the stack.\n",
    "\n",
    "```\n",
    "examples code:\n",
    "# Suppose your stack had 3 nodes, then the code below would return 3:\n",
    "stack= Stack()\n",
    "print(stack.size())\n",
    "```"
   ]
  },
  {
   "cell_type": "code",
   "execution_count": null,
   "id": "d5043d1b-ceb9-489b-a238-766cafabf05c",
   "metadata": {},
   "outputs": [],
   "source": []
  }
 ],
 "metadata": {
  "kernelspec": {
   "display_name": "Python 3 (ipykernel)",
   "language": "python",
   "name": "python3"
  },
  "language_info": {
   "codemirror_mode": {
    "name": "ipython",
    "version": 3
   },
   "file_extension": ".py",
   "mimetype": "text/x-python",
   "name": "python",
   "nbconvert_exporter": "python",
   "pygments_lexer": "ipython3",
   "version": "3.12.1"
  }
 },
 "nbformat": 4,
 "nbformat_minor": 5
}
