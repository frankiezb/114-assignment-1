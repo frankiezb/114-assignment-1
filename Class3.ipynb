{
 "cells": [
  {
   "cell_type": "markdown",
   "id": "3f21eec6-57d4-4229-9b9b-75b0039cb75e",
   "metadata": {},
   "source": [
    "# Simlified implementation ofof a Queue (using built-ins)\n",
    "\n",
    "class Queue:\n",
    "    def _init_(self):\n",
    "    self.items =[]\n",
    "\n",
    "    def enqueue(self, value):\n",
    "        sel.items.insert(0, value)\n",
    "\n",
    "    def dequeue(self):\n",
    "        return self.items.pop()\n",
    "\n",
    "    #Nice to have methds:\n",
    "    def size(self):\n",
    "        return self.items[len(self.items)-1]\n",
    "\n",
    "    def is_empty(self):\n",
    "        return self.items== []\n"
   ]
  },
  {
   "cell_type": "code",
   "execution_count": 1,
   "id": "379a81e3-516a-46de-b439-017d8d03b34e",
   "metadata": {},
   "outputs": [],
   "source": [
    "# Problem 4:\n",
    "\n",
    "## Create a \"from scratch\" implementation of queue, including, at a minimum \"enqueue\" and \"dequeue\" as its methods\n",
    "#  Your class should be called queuell"
   ]
  },
  {
   "cell_type": "code",
   "execution_count": null,
   "id": "6c1a4144-3d0f-4ea1-8c5e-d1a7e390e487",
   "metadata": {},
   "outputs": [],
   "source": [
    "define my class Node:\n",
    "    define attribute data with initial value None\n",
    "    define attribute next with initial value None\n",
    "\n",
    "define my class Queuell\n",
    "    define attribute front with initial value None\n",
    "    define attribute rear with initial value None\n",
    "\n",
    "define enqueue method with parameter \"value\":\n",
    "    new_node = new instance of Node with \"data\" set to \"value\"\n",
    "    if my queue is empty:\n",
    "        update self.front to point to new_node\n",
    "        update self.rear to point to new_node\n",
    "    otherwise: # the queue is not empty \n",
    "        self.rear.next = new_node\n",
    "        self.rear = new_node\n",
    "define dequeue method:\n",
    "    if the self.front reference is not pointing to None # this means there are nodes in the queue \n",
    "    datum = the data element stored at the front node\n",
    "    self.front = the next node in line "
   ]
  },
  {
   "cell_type": "code",
   "execution_count": null,
   "id": "c88c3ff3-8b64-4b46-adb7-de89760c79b1",
   "metadata": {},
   "outputs": [],
   "source": [
    "class QueueII:\n",
    "    def _init_(self):\n",
    "        self.front = None\n",
    "        self.back = None\n",
    "    \n",
    "    class _Node\n",
    "        def _init_(self,data):\n",
    "            self.data = data\n",
    "            self.next = None\n",
    "\n",
    "    def enqueue(self, value):\n",
    "        new_node = self._Node(value)\n",
    "        if not self.back:\n",
    "            self.front = new_node\n",
    "            self.back = new_node\n",
    "        else:\n",
    "            old_back = self.back\n",
    "            self.back.next = new_node\n",
    "            self.back = new_node \n",
    "\n",
    "    def dequeue(self):\n",
    "        if self.front:\n",
    "            datum + self.front.data\n",
    "            self.front = self.front.next\n",
    "            if not self.front\n",
    "        return datum \n",
    "    raise IndexError(\"Stack is empty\")\n",
    "        "
   ]
  }
 ],
 "metadata": {
  "kernelspec": {
   "display_name": "Python 3 (ipykernel)",
   "language": "python",
   "name": "python3"
  },
  "language_info": {
   "codemirror_mode": {
    "name": "ipython",
    "version": 3
   },
   "file_extension": ".py",
   "mimetype": "text/x-python",
   "name": "python",
   "nbconvert_exporter": "python",
   "pygments_lexer": "ipython3",
   "version": "3.12.1"
  }
 },
 "nbformat": 4,
 "nbformat_minor": 5
}
