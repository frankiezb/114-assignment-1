{
 "cells": [
  {
   "cell_type": "markdown",
   "id": "5c94f647-e81a-4dcc-87ce-fb2c90ff3c63",
   "metadata": {},
   "source": [
    "    for char in \"hello, world\":\n",
    "    print(char)\n",
    "    "
   ]
  },
  {
   "cell_type": "markdown",
   "id": "99b2c0a0-7df9-49a6-a676-3e56846fee57",
   "metadata": {},
   "source": [
    "# problem 1\n",
    "\n",
    "## Anagram Check \n",
    "Given two strings create a function that returnss 'True' if thee are anagrams of each other, `False` .\n",
    "\n",
    "### Acceptance Critera \n",
    "Two stings are anagrams of each other if all the criteria below are met:\n",
    "1. They must use the same letters the same amount of times.\n",
    "2. They must be equal length\n",
    "\n",
    "```\n",
    "Examples:\n",
    "anagram_check(\"earth\", \"heart\") returns True\n",
    "anagram_check(\"star\", \"rats\") returns True\n",
    "anagram_check(\"cars\", \"scar\") returns True\n",
    "```"
   ]
  },
  {
   "cell_type": "code",
   "execution_count": 9,
   "id": "56686e14-0a36-42f7-bce8-b13b64424798",
   "metadata": {},
   "outputs": [
    {
     "ename": "SyntaxError",
     "evalue": "invalid syntax (404376255.py, line 3)",
     "output_type": "error",
     "traceback": [
      "\u001b[0;36m  Cell \u001b[0;32mIn[9], line 3\u001b[0;36m\u001b[0m\n\u001b[0;31m    ```\u001b[0m\n\u001b[0m    ^\u001b[0m\n\u001b[0;31mSyntaxError\u001b[0m\u001b[0;31m:\u001b[0m invalid syntax\n"
     ]
    }
   ],
   "source": [
    "# Pseudcode for anagrm function \n",
    "\n",
    "```\n",
    "define my function anagram_check which receives parameteers str1 and str2:\n",
    "    #first thing I need to do is level the playing field and remove spaces \n",
    "    str1 = str1 without spaces \n",
    "    str2 = str2 without spaces\n",
    "    str1 = str1 without lower case\n",
    "    str2 = str2 without lower case\n",
    "    if the length of str1 is not equal to the length of str2:\n",
    "        return Flase \n",
    "    other wise:\n",
    "     # I would like to track which letters I've seen and how many times\n",
    "    dict_1 = new dictionary\n",
    "    dict_2 = new dictionary\n",
    "    for each number in the range from 0 to the length of st1:\n",
    "    if the letter at position 0 in str1 is in dict_1:\n",
    "        add 1 to the total number of times I've see that letter \n",
    "    otherwise:\n",
    "        create a new entry in dic_1 with that letter and the vaule set to 1\n",
    "    if the letter at position 0 in str2 is in dict_2:\n",
    "        add 1 to the total number of times I've seen that letter\n",
    "    otherwise:\n",
    "        create a new entry in dict_2 with that letter and the value set 1 \n",
    "return dict_1 == dict_2\n",
    "```\n"
   ]
  },
  {
   "cell_type": "code",
   "execution_count": null,
   "id": "f0c0cdd7-d42b-415d-b832-04d23cc73fd0",
   "metadata": {},
   "outputs": [],
   "source": []
  }
 ],
 "metadata": {
  "kernelspec": {
   "display_name": "Python 3 (ipykernel)",
   "language": "python",
   "name": "python3"
  },
  "language_info": {
   "codemirror_mode": {
    "name": "ipython",
    "version": 3
   },
   "file_extension": ".py",
   "mimetype": "text/x-python",
   "name": "python",
   "nbconvert_exporter": "python",
   "pygments_lexer": "ipython3",
   "version": "3.12.1"
  }
 },
 "nbformat": 4,
 "nbformat_minor": 5
}
